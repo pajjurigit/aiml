{
  "nbformat": 4,
  "nbformat_minor": 0,
  "metadata": {
    "colab": {
      "provenance": [],
      "authorship_tag": "ABX9TyPwZ83CdODDz8iRVzi+X6fJ",
      "include_colab_link": true
    },
    "kernelspec": {
      "name": "python3",
      "display_name": "Python 3"
    },
    "language_info": {
      "name": "python"
    }
  },
  "cells": [
    {
      "cell_type": "markdown",
      "metadata": {
        "id": "view-in-github",
        "colab_type": "text"
      },
      "source": [
        "<a href=\"https://colab.research.google.com/github/pajjurigit/aiml/blob/main/lowcodeai/LowCodeAi_first.ipynb\" target=\"_parent\"><img src=\"https://colab.research.google.com/assets/colab-badge.svg\" alt=\"Open In Colab\"/></a>"
      ]
    },
    {
      "cell_type": "code",
      "source": [
        "import pandas as pd"
      ],
      "metadata": {
        "id": "YXXXwQ4vg7ww"
      },
      "execution_count": 2,
      "outputs": []
    },
    {
      "cell_type": "code",
      "source": [
        "url='https://data.cdc.gov/api/views/i2vk-mgdh/rows.csv?accessType=DOWNLOAD'\n",
        "heart_df = pd.read_csv(url, index_col=0)\n"
      ],
      "metadata": {
        "id": "vs8G6RsWfqT2"
      },
      "execution_count": 3,
      "outputs": []
    },
    {
      "cell_type": "markdown",
      "source": [
        "Above code loads data into Panda's Data frame\n",
        "Below code shows how to manipulate that data using Pandas\n"
      ],
      "metadata": {
        "id": "bCvREgH3gfHO"
      }
    },
    {
      "cell_type": "code",
      "source": [
        "heart_df.head()\n"
      ],
      "metadata": {
        "id": "BoJAh2k-gcUA"
      },
      "execution_count": null,
      "outputs": []
    },
    {
      "cell_type": "code",
      "source": [
        "heart_df.info()"
      ],
      "metadata": {
        "id": "mT3-JwOzhn5V"
      },
      "execution_count": null,
      "outputs": []
    },
    {
      "cell_type": "code",
      "source": [
        "heart_local = pd.read_csv('heart.csv', on_bad_lines='skip', engine='python')\n",
        "#heart_local.head()\n",
        "heart_local.info()"
      ],
      "metadata": {
        "id": "D4JIBcnAiiG6"
      },
      "execution_count": null,
      "outputs": []
    },
    {
      "cell_type": "code",
      "source": [
        "#heart_local.info()\n",
        "\n",
        "heart_df.isnull().sum()"
      ],
      "metadata": {
        "id": "ADvJjhaqj2WS"
      },
      "execution_count": null,
      "outputs": []
    },
    {
      "cell_type": "code",
      "source": [
        "heart_df.Stratification2.drop_duplicates()"
      ],
      "metadata": {
        "id": "PqfHbfGVn0Sa"
      },
      "execution_count": null,
      "outputs": []
    },
    {
      "cell_type": "markdown",
      "source": [],
      "metadata": {
        "id": "QDtyWi3KgeKJ"
      }
    },
    {
      "cell_type": "code",
      "source": [
        "import seaborn as sns\n",
        "#import matplotlib.pyplot as plt\n",
        "\n",
        "#\n",
        "#plt.show()\n",
        "heart_df.reset_index()\n",
        "heart_df.Stratification2.duplicated()\n",
        "\n",
        "heart_df = heart_df.loc[:,~heart_df.columns.duplicated()]"
      ],
      "metadata": {
        "id": "7OwFs5Ei4ubE"
      },
      "execution_count": 21,
      "outputs": []
    },
    {
      "cell_type": "code",
      "source": [
        "#sns.violinplot(x='Data_Value', y='Stratification2', data=heart_df)\n",
        "\n",
        "print(heart_df['Data_Value'].duplicated().any())\n",
        "print(heart_df['Stratification2'].duplicated().any())\n",
        "\n",
        "heart_df_unique = heart_df.drop_duplicates(subset=['Data_Value', 'Stratification2'])\n",
        "\n",
        "print(heart_df_unique['Data_Value'].duplicated().any())\n",
        "print(heart_df_unique['Stratification2'].duplicated().any())\n",
        "\n",
        "#sns.violinplot(x='Data_Value', y='Stratification2', data=heart_df_unique)\n",
        "sns.displot(heart_df_unique['Data_Value'])\n"
      ],
      "metadata": {
        "id": "Z9DLbGWb68oE"
      },
      "execution_count": null,
      "outputs": []
    }
  ]
}